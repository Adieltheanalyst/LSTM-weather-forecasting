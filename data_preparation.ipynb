{
 "cells": [
  {
   "cell_type": "code",
   "execution_count": 115,
   "id": "96ea215b",
   "metadata": {},
   "outputs": [],
   "source": [
    "import pandas as pd\n",
    "import numpy as np"
   ]
  },
  {
   "cell_type": "code",
   "execution_count": 116,
   "id": "7c005657",
   "metadata": {},
   "outputs": [],
   "source": [
    "precipitation_df=pd.read_csv(r\"data\\Cuba_Precipitation_with_Nodes (1) (2).csv\")\n",
    "adj_matrix=pd.read_csv(r\"data\\Adjacency_Matrix______0_80.csv\", index_col=0)"
   ]
  },
  {
   "cell_type": "code",
   "execution_count": 117,
   "id": "2377fd7f",
   "metadata": {},
   "outputs": [],
   "source": [
    "precipitation_df[\"time\"]=pd.to_datetime(precipitation_df[\"time\"])"
   ]
  },
  {
   "cell_type": "code",
   "execution_count": 118,
   "id": "7922c767",
   "metadata": {},
   "outputs": [
    {
     "data": {
      "text/html": [
       "<div>\n",
       "<style scoped>\n",
       "    .dataframe tbody tr th:only-of-type {\n",
       "        vertical-align: middle;\n",
       "    }\n",
       "\n",
       "    .dataframe tbody tr th {\n",
       "        vertical-align: top;\n",
       "    }\n",
       "\n",
       "    .dataframe thead th {\n",
       "        text-align: right;\n",
       "    }\n",
       "</style>\n",
       "<table border=\"1\" class=\"dataframe\">\n",
       "  <thead>\n",
       "    <tr style=\"text-align: right;\">\n",
       "      <th></th>\n",
       "      <th>node</th>\n",
       "      <th>lat</th>\n",
       "      <th>lon</th>\n",
       "      <th>time</th>\n",
       "      <th>precipitation</th>\n",
       "    </tr>\n",
       "  </thead>\n",
       "  <tbody>\n",
       "    <tr>\n",
       "      <th>0</th>\n",
       "      <td>1</td>\n",
       "      <td>22.75</td>\n",
       "      <td>-83.75</td>\n",
       "      <td>1979-01-01</td>\n",
       "      <td>0.000000</td>\n",
       "    </tr>\n",
       "    <tr>\n",
       "      <th>1</th>\n",
       "      <td>1</td>\n",
       "      <td>22.75</td>\n",
       "      <td>-83.75</td>\n",
       "      <td>1979-01-02</td>\n",
       "      <td>16.168200</td>\n",
       "    </tr>\n",
       "    <tr>\n",
       "      <th>2</th>\n",
       "      <td>1</td>\n",
       "      <td>22.75</td>\n",
       "      <td>-83.75</td>\n",
       "      <td>1979-01-03</td>\n",
       "      <td>4.264466</td>\n",
       "    </tr>\n",
       "    <tr>\n",
       "      <th>3</th>\n",
       "      <td>1</td>\n",
       "      <td>22.75</td>\n",
       "      <td>-83.75</td>\n",
       "      <td>1979-01-04</td>\n",
       "      <td>0.000000</td>\n",
       "    </tr>\n",
       "    <tr>\n",
       "      <th>4</th>\n",
       "      <td>1</td>\n",
       "      <td>22.75</td>\n",
       "      <td>-83.75</td>\n",
       "      <td>1979-01-05</td>\n",
       "      <td>0.000000</td>\n",
       "    </tr>\n",
       "  </tbody>\n",
       "</table>\n",
       "</div>"
      ],
      "text/plain": [
       "   node    lat    lon       time  precipitation\n",
       "0     1  22.75 -83.75 1979-01-01       0.000000\n",
       "1     1  22.75 -83.75 1979-01-02      16.168200\n",
       "2     1  22.75 -83.75 1979-01-03       4.264466\n",
       "3     1  22.75 -83.75 1979-01-04       0.000000\n",
       "4     1  22.75 -83.75 1979-01-05       0.000000"
      ]
     },
     "execution_count": 118,
     "metadata": {},
     "output_type": "execute_result"
    }
   ],
   "source": [
    "precipitation_df.head()"
   ]
  },
  {
   "cell_type": "code",
   "execution_count": 119,
   "id": "d4de2c05",
   "metadata": {},
   "outputs": [],
   "source": [
    "precipitation_df=precipitation_df.sort_values(by=[\"node\", \"time\"])\n",
    "precipitation_df.reset_index(drop=True,inplace=True)"
   ]
  },
  {
   "cell_type": "code",
   "execution_count": 120,
   "id": "27fb7d52",
   "metadata": {},
   "outputs": [
    {
     "data": {
      "text/html": [
       "<div>\n",
       "<style scoped>\n",
       "    .dataframe tbody tr th:only-of-type {\n",
       "        vertical-align: middle;\n",
       "    }\n",
       "\n",
       "    .dataframe tbody tr th {\n",
       "        vertical-align: top;\n",
       "    }\n",
       "\n",
       "    .dataframe thead th {\n",
       "        text-align: right;\n",
       "    }\n",
       "</style>\n",
       "<table border=\"1\" class=\"dataframe\">\n",
       "  <thead>\n",
       "    <tr style=\"text-align: right;\">\n",
       "      <th></th>\n",
       "      <th>node</th>\n",
       "      <th>lat</th>\n",
       "      <th>lon</th>\n",
       "      <th>time</th>\n",
       "      <th>precipitation</th>\n",
       "    </tr>\n",
       "  </thead>\n",
       "  <tbody>\n",
       "    <tr>\n",
       "      <th>0</th>\n",
       "      <td>1</td>\n",
       "      <td>22.75</td>\n",
       "      <td>-83.75</td>\n",
       "      <td>1979-01-01</td>\n",
       "      <td>0.000000</td>\n",
       "    </tr>\n",
       "    <tr>\n",
       "      <th>1</th>\n",
       "      <td>1</td>\n",
       "      <td>22.75</td>\n",
       "      <td>-83.75</td>\n",
       "      <td>1979-01-02</td>\n",
       "      <td>16.168200</td>\n",
       "    </tr>\n",
       "    <tr>\n",
       "      <th>2</th>\n",
       "      <td>1</td>\n",
       "      <td>22.75</td>\n",
       "      <td>-83.75</td>\n",
       "      <td>1979-01-03</td>\n",
       "      <td>4.264466</td>\n",
       "    </tr>\n",
       "    <tr>\n",
       "      <th>3</th>\n",
       "      <td>1</td>\n",
       "      <td>22.75</td>\n",
       "      <td>-83.75</td>\n",
       "      <td>1979-01-04</td>\n",
       "      <td>0.000000</td>\n",
       "    </tr>\n",
       "    <tr>\n",
       "      <th>4</th>\n",
       "      <td>1</td>\n",
       "      <td>22.75</td>\n",
       "      <td>-83.75</td>\n",
       "      <td>1979-01-05</td>\n",
       "      <td>0.000000</td>\n",
       "    </tr>\n",
       "    <tr>\n",
       "      <th>...</th>\n",
       "      <td>...</td>\n",
       "      <td>...</td>\n",
       "      <td>...</td>\n",
       "      <td>...</td>\n",
       "      <td>...</td>\n",
       "    </tr>\n",
       "    <tr>\n",
       "      <th>661595</th>\n",
       "      <td>40</td>\n",
       "      <td>20.25</td>\n",
       "      <td>-74.25</td>\n",
       "      <td>2024-04-09</td>\n",
       "      <td>0.000000</td>\n",
       "    </tr>\n",
       "    <tr>\n",
       "      <th>661596</th>\n",
       "      <td>40</td>\n",
       "      <td>20.25</td>\n",
       "      <td>-74.25</td>\n",
       "      <td>2024-04-10</td>\n",
       "      <td>0.000000</td>\n",
       "    </tr>\n",
       "    <tr>\n",
       "      <th>661597</th>\n",
       "      <td>40</td>\n",
       "      <td>20.25</td>\n",
       "      <td>-74.25</td>\n",
       "      <td>2024-04-11</td>\n",
       "      <td>0.000000</td>\n",
       "    </tr>\n",
       "    <tr>\n",
       "      <th>661598</th>\n",
       "      <td>40</td>\n",
       "      <td>20.25</td>\n",
       "      <td>-74.25</td>\n",
       "      <td>2024-04-12</td>\n",
       "      <td>0.000000</td>\n",
       "    </tr>\n",
       "    <tr>\n",
       "      <th>661599</th>\n",
       "      <td>40</td>\n",
       "      <td>20.25</td>\n",
       "      <td>-74.25</td>\n",
       "      <td>2024-04-13</td>\n",
       "      <td>0.000000</td>\n",
       "    </tr>\n",
       "  </tbody>\n",
       "</table>\n",
       "<p>661600 rows × 5 columns</p>\n",
       "</div>"
      ],
      "text/plain": [
       "        node    lat    lon       time  precipitation\n",
       "0          1  22.75 -83.75 1979-01-01       0.000000\n",
       "1          1  22.75 -83.75 1979-01-02      16.168200\n",
       "2          1  22.75 -83.75 1979-01-03       4.264466\n",
       "3          1  22.75 -83.75 1979-01-04       0.000000\n",
       "4          1  22.75 -83.75 1979-01-05       0.000000\n",
       "...      ...    ...    ...        ...            ...\n",
       "661595    40  20.25 -74.25 2024-04-09       0.000000\n",
       "661596    40  20.25 -74.25 2024-04-10       0.000000\n",
       "661597    40  20.25 -74.25 2024-04-11       0.000000\n",
       "661598    40  20.25 -74.25 2024-04-12       0.000000\n",
       "661599    40  20.25 -74.25 2024-04-13       0.000000\n",
       "\n",
       "[661600 rows x 5 columns]"
      ]
     },
     "execution_count": 120,
     "metadata": {},
     "output_type": "execute_result"
    }
   ],
   "source": [
    "precipitation_df"
   ]
  },
  {
   "cell_type": "code",
   "execution_count": 121,
   "id": "a1e627a4",
   "metadata": {},
   "outputs": [
    {
     "name": "stdout",
     "output_type": "stream",
     "text": [
      "        node    lat    lon\n",
      "0          1  22.75 -83.75\n",
      "1          1  22.75 -83.75\n",
      "2          1  22.75 -83.75\n",
      "3          1  22.75 -83.75\n",
      "4          1  22.75 -83.75\n",
      "...      ...    ...    ...\n",
      "661595    40  20.25 -74.25\n",
      "661596    40  20.25 -74.25\n",
      "661597    40  20.25 -74.25\n",
      "661598    40  20.25 -74.25\n",
      "661599    40  20.25 -74.25\n",
      "\n",
      "[661600 rows x 3 columns]\n"
     ]
    }
   ],
   "source": [
    "print(precipitation_df[[\"node\",\"lat\",\"lon\"]])\n"
   ]
  },
  {
   "cell_type": "code",
   "execution_count": 122,
   "id": "06c3e984",
   "metadata": {},
   "outputs": [],
   "source": [
    "nodes=precipitation_df[\"node\"].values\n",
    "missing_nodes=set(nodes)-set(adj_matrix.index)"
   ]
  },
  {
   "cell_type": "code",
   "execution_count": 123,
   "id": "a86840ad",
   "metadata": {},
   "outputs": [
    {
     "data": {
      "text/plain": [
       "set()"
      ]
     },
     "execution_count": 123,
     "metadata": {},
     "output_type": "execute_result"
    }
   ],
   "source": [
    "missing_nodes\n",
    "#Seems there is no missing links "
   ]
  },
  {
   "cell_type": "code",
   "execution_count": 124,
   "id": "62735c6c",
   "metadata": {},
   "outputs": [],
   "source": [
    "precipitation_df[\"precipitation_diff\"]=precipitation_df.groupby(\"node\")[\"precipitation\"].diff()\n",
    "precip_diff_df=precipitation_df.dropna(subset=[\"precipitation_diff\"])\n",
    "# precip_values"
   ]
  },
  {
   "cell_type": "code",
   "execution_count": 125,
   "id": "c5e26370",
   "metadata": {},
   "outputs": [
    {
     "data": {
      "text/html": [
       "<div>\n",
       "<style scoped>\n",
       "    .dataframe tbody tr th:only-of-type {\n",
       "        vertical-align: middle;\n",
       "    }\n",
       "\n",
       "    .dataframe tbody tr th {\n",
       "        vertical-align: top;\n",
       "    }\n",
       "\n",
       "    .dataframe thead th {\n",
       "        text-align: right;\n",
       "    }\n",
       "</style>\n",
       "<table border=\"1\" class=\"dataframe\">\n",
       "  <thead>\n",
       "    <tr style=\"text-align: right;\">\n",
       "      <th></th>\n",
       "      <th>node</th>\n",
       "      <th>lat</th>\n",
       "      <th>lon</th>\n",
       "      <th>time</th>\n",
       "      <th>precipitation</th>\n",
       "      <th>precipitation_diff</th>\n",
       "    </tr>\n",
       "  </thead>\n",
       "  <tbody>\n",
       "    <tr>\n",
       "      <th>1</th>\n",
       "      <td>1</td>\n",
       "      <td>22.75</td>\n",
       "      <td>-83.75</td>\n",
       "      <td>1979-01-02</td>\n",
       "      <td>16.168200</td>\n",
       "      <td>16.168200</td>\n",
       "    </tr>\n",
       "    <tr>\n",
       "      <th>2</th>\n",
       "      <td>1</td>\n",
       "      <td>22.75</td>\n",
       "      <td>-83.75</td>\n",
       "      <td>1979-01-03</td>\n",
       "      <td>4.264466</td>\n",
       "      <td>-11.903734</td>\n",
       "    </tr>\n",
       "    <tr>\n",
       "      <th>3</th>\n",
       "      <td>1</td>\n",
       "      <td>22.75</td>\n",
       "      <td>-83.75</td>\n",
       "      <td>1979-01-04</td>\n",
       "      <td>0.000000</td>\n",
       "      <td>-4.264466</td>\n",
       "    </tr>\n",
       "    <tr>\n",
       "      <th>4</th>\n",
       "      <td>1</td>\n",
       "      <td>22.75</td>\n",
       "      <td>-83.75</td>\n",
       "      <td>1979-01-05</td>\n",
       "      <td>0.000000</td>\n",
       "      <td>0.000000</td>\n",
       "    </tr>\n",
       "    <tr>\n",
       "      <th>5</th>\n",
       "      <td>1</td>\n",
       "      <td>22.75</td>\n",
       "      <td>-83.75</td>\n",
       "      <td>1979-01-06</td>\n",
       "      <td>0.000000</td>\n",
       "      <td>0.000000</td>\n",
       "    </tr>\n",
       "    <tr>\n",
       "      <th>6</th>\n",
       "      <td>1</td>\n",
       "      <td>22.75</td>\n",
       "      <td>-83.75</td>\n",
       "      <td>1979-01-07</td>\n",
       "      <td>0.000000</td>\n",
       "      <td>0.000000</td>\n",
       "    </tr>\n",
       "    <tr>\n",
       "      <th>7</th>\n",
       "      <td>1</td>\n",
       "      <td>22.75</td>\n",
       "      <td>-83.75</td>\n",
       "      <td>1979-01-08</td>\n",
       "      <td>0.000000</td>\n",
       "      <td>0.000000</td>\n",
       "    </tr>\n",
       "    <tr>\n",
       "      <th>8</th>\n",
       "      <td>1</td>\n",
       "      <td>22.75</td>\n",
       "      <td>-83.75</td>\n",
       "      <td>1979-01-09</td>\n",
       "      <td>0.020123</td>\n",
       "      <td>0.020123</td>\n",
       "    </tr>\n",
       "    <tr>\n",
       "      <th>9</th>\n",
       "      <td>1</td>\n",
       "      <td>22.75</td>\n",
       "      <td>-83.75</td>\n",
       "      <td>1979-01-10</td>\n",
       "      <td>9.862288</td>\n",
       "      <td>9.842165</td>\n",
       "    </tr>\n",
       "    <tr>\n",
       "      <th>10</th>\n",
       "      <td>1</td>\n",
       "      <td>22.75</td>\n",
       "      <td>-83.75</td>\n",
       "      <td>1979-01-11</td>\n",
       "      <td>0.000000</td>\n",
       "      <td>-9.862288</td>\n",
       "    </tr>\n",
       "    <tr>\n",
       "      <th>11</th>\n",
       "      <td>1</td>\n",
       "      <td>22.75</td>\n",
       "      <td>-83.75</td>\n",
       "      <td>1979-01-12</td>\n",
       "      <td>9.881631</td>\n",
       "      <td>9.881631</td>\n",
       "    </tr>\n",
       "    <tr>\n",
       "      <th>12</th>\n",
       "      <td>1</td>\n",
       "      <td>22.75</td>\n",
       "      <td>-83.75</td>\n",
       "      <td>1979-01-13</td>\n",
       "      <td>1.027116</td>\n",
       "      <td>-8.854515</td>\n",
       "    </tr>\n",
       "    <tr>\n",
       "      <th>13</th>\n",
       "      <td>1</td>\n",
       "      <td>22.75</td>\n",
       "      <td>-83.75</td>\n",
       "      <td>1979-01-14</td>\n",
       "      <td>1.267495</td>\n",
       "      <td>0.240379</td>\n",
       "    </tr>\n",
       "    <tr>\n",
       "      <th>14</th>\n",
       "      <td>1</td>\n",
       "      <td>22.75</td>\n",
       "      <td>-83.75</td>\n",
       "      <td>1979-01-15</td>\n",
       "      <td>0.106197</td>\n",
       "      <td>-1.161298</td>\n",
       "    </tr>\n",
       "    <tr>\n",
       "      <th>15</th>\n",
       "      <td>1</td>\n",
       "      <td>22.75</td>\n",
       "      <td>-83.75</td>\n",
       "      <td>1979-01-16</td>\n",
       "      <td>0.000000</td>\n",
       "      <td>-0.106197</td>\n",
       "    </tr>\n",
       "    <tr>\n",
       "      <th>16</th>\n",
       "      <td>1</td>\n",
       "      <td>22.75</td>\n",
       "      <td>-83.75</td>\n",
       "      <td>1979-01-17</td>\n",
       "      <td>0.000000</td>\n",
       "      <td>0.000000</td>\n",
       "    </tr>\n",
       "    <tr>\n",
       "      <th>17</th>\n",
       "      <td>1</td>\n",
       "      <td>22.75</td>\n",
       "      <td>-83.75</td>\n",
       "      <td>1979-01-18</td>\n",
       "      <td>0.000000</td>\n",
       "      <td>0.000000</td>\n",
       "    </tr>\n",
       "    <tr>\n",
       "      <th>18</th>\n",
       "      <td>1</td>\n",
       "      <td>22.75</td>\n",
       "      <td>-83.75</td>\n",
       "      <td>1979-01-19</td>\n",
       "      <td>0.000000</td>\n",
       "      <td>0.000000</td>\n",
       "    </tr>\n",
       "    <tr>\n",
       "      <th>19</th>\n",
       "      <td>1</td>\n",
       "      <td>22.75</td>\n",
       "      <td>-83.75</td>\n",
       "      <td>1979-01-20</td>\n",
       "      <td>2.804036</td>\n",
       "      <td>2.804036</td>\n",
       "    </tr>\n",
       "    <tr>\n",
       "      <th>20</th>\n",
       "      <td>1</td>\n",
       "      <td>22.75</td>\n",
       "      <td>-83.75</td>\n",
       "      <td>1979-01-21</td>\n",
       "      <td>6.629008</td>\n",
       "      <td>3.824972</td>\n",
       "    </tr>\n",
       "  </tbody>\n",
       "</table>\n",
       "</div>"
      ],
      "text/plain": [
       "    node    lat    lon       time  precipitation  precipitation_diff\n",
       "1      1  22.75 -83.75 1979-01-02      16.168200           16.168200\n",
       "2      1  22.75 -83.75 1979-01-03       4.264466          -11.903734\n",
       "3      1  22.75 -83.75 1979-01-04       0.000000           -4.264466\n",
       "4      1  22.75 -83.75 1979-01-05       0.000000            0.000000\n",
       "5      1  22.75 -83.75 1979-01-06       0.000000            0.000000\n",
       "6      1  22.75 -83.75 1979-01-07       0.000000            0.000000\n",
       "7      1  22.75 -83.75 1979-01-08       0.000000            0.000000\n",
       "8      1  22.75 -83.75 1979-01-09       0.020123            0.020123\n",
       "9      1  22.75 -83.75 1979-01-10       9.862288            9.842165\n",
       "10     1  22.75 -83.75 1979-01-11       0.000000           -9.862288\n",
       "11     1  22.75 -83.75 1979-01-12       9.881631            9.881631\n",
       "12     1  22.75 -83.75 1979-01-13       1.027116           -8.854515\n",
       "13     1  22.75 -83.75 1979-01-14       1.267495            0.240379\n",
       "14     1  22.75 -83.75 1979-01-15       0.106197           -1.161298\n",
       "15     1  22.75 -83.75 1979-01-16       0.000000           -0.106197\n",
       "16     1  22.75 -83.75 1979-01-17       0.000000            0.000000\n",
       "17     1  22.75 -83.75 1979-01-18       0.000000            0.000000\n",
       "18     1  22.75 -83.75 1979-01-19       0.000000            0.000000\n",
       "19     1  22.75 -83.75 1979-01-20       2.804036            2.804036\n",
       "20     1  22.75 -83.75 1979-01-21       6.629008            3.824972"
      ]
     },
     "execution_count": 125,
     "metadata": {},
     "output_type": "execute_result"
    }
   ],
   "source": [
    "precip_diff_df.head(20)"
   ]
  },
  {
   "cell_type": "code",
   "execution_count": 126,
   "id": "b342f500",
   "metadata": {},
   "outputs": [
    {
     "data": {
      "text/html": [
       "<div>\n",
       "<style scoped>\n",
       "    .dataframe tbody tr th:only-of-type {\n",
       "        vertical-align: middle;\n",
       "    }\n",
       "\n",
       "    .dataframe tbody tr th {\n",
       "        vertical-align: top;\n",
       "    }\n",
       "\n",
       "    .dataframe thead th {\n",
       "        text-align: right;\n",
       "    }\n",
       "</style>\n",
       "<table border=\"1\" class=\"dataframe\">\n",
       "  <thead>\n",
       "    <tr style=\"text-align: right;\">\n",
       "      <th></th>\n",
       "      <th>1</th>\n",
       "      <th>2</th>\n",
       "      <th>3</th>\n",
       "      <th>4</th>\n",
       "      <th>5</th>\n",
       "      <th>6</th>\n",
       "      <th>7</th>\n",
       "      <th>8</th>\n",
       "      <th>9</th>\n",
       "      <th>10</th>\n",
       "      <th>...</th>\n",
       "      <th>31</th>\n",
       "      <th>32</th>\n",
       "      <th>33</th>\n",
       "      <th>34</th>\n",
       "      <th>35</th>\n",
       "      <th>36</th>\n",
       "      <th>37</th>\n",
       "      <th>38</th>\n",
       "      <th>39</th>\n",
       "      <th>40</th>\n",
       "    </tr>\n",
       "    <tr>\n",
       "      <th>node</th>\n",
       "      <th></th>\n",
       "      <th></th>\n",
       "      <th></th>\n",
       "      <th></th>\n",
       "      <th></th>\n",
       "      <th></th>\n",
       "      <th></th>\n",
       "      <th></th>\n",
       "      <th></th>\n",
       "      <th></th>\n",
       "      <th></th>\n",
       "      <th></th>\n",
       "      <th></th>\n",
       "      <th></th>\n",
       "      <th></th>\n",
       "      <th></th>\n",
       "      <th></th>\n",
       "      <th></th>\n",
       "      <th></th>\n",
       "      <th></th>\n",
       "      <th></th>\n",
       "    </tr>\n",
       "  </thead>\n",
       "  <tbody>\n",
       "    <tr>\n",
       "      <th>1</th>\n",
       "      <td>0</td>\n",
       "      <td>1</td>\n",
       "      <td>0</td>\n",
       "      <td>0</td>\n",
       "      <td>0</td>\n",
       "      <td>0</td>\n",
       "      <td>0</td>\n",
       "      <td>0</td>\n",
       "      <td>0</td>\n",
       "      <td>0</td>\n",
       "      <td>...</td>\n",
       "      <td>0</td>\n",
       "      <td>0</td>\n",
       "      <td>0</td>\n",
       "      <td>0</td>\n",
       "      <td>0</td>\n",
       "      <td>0</td>\n",
       "      <td>0</td>\n",
       "      <td>0</td>\n",
       "      <td>0</td>\n",
       "      <td>0</td>\n",
       "    </tr>\n",
       "    <tr>\n",
       "      <th>2</th>\n",
       "      <td>1</td>\n",
       "      <td>0</td>\n",
       "      <td>1</td>\n",
       "      <td>0</td>\n",
       "      <td>0</td>\n",
       "      <td>0</td>\n",
       "      <td>0</td>\n",
       "      <td>0</td>\n",
       "      <td>0</td>\n",
       "      <td>0</td>\n",
       "      <td>...</td>\n",
       "      <td>0</td>\n",
       "      <td>0</td>\n",
       "      <td>0</td>\n",
       "      <td>0</td>\n",
       "      <td>0</td>\n",
       "      <td>0</td>\n",
       "      <td>0</td>\n",
       "      <td>0</td>\n",
       "      <td>0</td>\n",
       "      <td>0</td>\n",
       "    </tr>\n",
       "    <tr>\n",
       "      <th>3</th>\n",
       "      <td>0</td>\n",
       "      <td>1</td>\n",
       "      <td>0</td>\n",
       "      <td>1</td>\n",
       "      <td>0</td>\n",
       "      <td>0</td>\n",
       "      <td>0</td>\n",
       "      <td>0</td>\n",
       "      <td>0</td>\n",
       "      <td>0</td>\n",
       "      <td>...</td>\n",
       "      <td>0</td>\n",
       "      <td>0</td>\n",
       "      <td>0</td>\n",
       "      <td>0</td>\n",
       "      <td>0</td>\n",
       "      <td>0</td>\n",
       "      <td>0</td>\n",
       "      <td>0</td>\n",
       "      <td>0</td>\n",
       "      <td>0</td>\n",
       "    </tr>\n",
       "    <tr>\n",
       "      <th>4</th>\n",
       "      <td>0</td>\n",
       "      <td>0</td>\n",
       "      <td>1</td>\n",
       "      <td>0</td>\n",
       "      <td>1</td>\n",
       "      <td>0</td>\n",
       "      <td>0</td>\n",
       "      <td>0</td>\n",
       "      <td>0</td>\n",
       "      <td>0</td>\n",
       "      <td>...</td>\n",
       "      <td>0</td>\n",
       "      <td>0</td>\n",
       "      <td>0</td>\n",
       "      <td>0</td>\n",
       "      <td>0</td>\n",
       "      <td>0</td>\n",
       "      <td>0</td>\n",
       "      <td>0</td>\n",
       "      <td>0</td>\n",
       "      <td>0</td>\n",
       "    </tr>\n",
       "    <tr>\n",
       "      <th>5</th>\n",
       "      <td>0</td>\n",
       "      <td>0</td>\n",
       "      <td>0</td>\n",
       "      <td>1</td>\n",
       "      <td>0</td>\n",
       "      <td>1</td>\n",
       "      <td>0</td>\n",
       "      <td>0</td>\n",
       "      <td>0</td>\n",
       "      <td>0</td>\n",
       "      <td>...</td>\n",
       "      <td>0</td>\n",
       "      <td>0</td>\n",
       "      <td>0</td>\n",
       "      <td>0</td>\n",
       "      <td>0</td>\n",
       "      <td>0</td>\n",
       "      <td>0</td>\n",
       "      <td>0</td>\n",
       "      <td>0</td>\n",
       "      <td>0</td>\n",
       "    </tr>\n",
       "  </tbody>\n",
       "</table>\n",
       "<p>5 rows × 40 columns</p>\n",
       "</div>"
      ],
      "text/plain": [
       "      1  2  3  4  5  6  7  8  9  10  ...  31  32  33  34  35  36  37  38  39  \\\n",
       "node                                 ...                                       \n",
       "1     0  1  0  0  0  0  0  0  0   0  ...   0   0   0   0   0   0   0   0   0   \n",
       "2     1  0  1  0  0  0  0  0  0   0  ...   0   0   0   0   0   0   0   0   0   \n",
       "3     0  1  0  1  0  0  0  0  0   0  ...   0   0   0   0   0   0   0   0   0   \n",
       "4     0  0  1  0  1  0  0  0  0   0  ...   0   0   0   0   0   0   0   0   0   \n",
       "5     0  0  0  1  0  1  0  0  0   0  ...   0   0   0   0   0   0   0   0   0   \n",
       "\n",
       "      40  \n",
       "node      \n",
       "1      0  \n",
       "2      0  \n",
       "3      0  \n",
       "4      0  \n",
       "5      0  \n",
       "\n",
       "[5 rows x 40 columns]"
      ]
     },
     "execution_count": 126,
     "metadata": {},
     "output_type": "execute_result"
    }
   ],
   "source": [
    "adj_matrix.head()"
   ]
  },
  {
   "cell_type": "markdown",
   "id": "43cd1ae7",
   "metadata": {},
   "source": [
    "### STEP 2"
   ]
  },
  {
   "cell_type": "code",
   "execution_count": 168,
   "id": "c1da603c",
   "metadata": {},
   "outputs": [
    {
     "name": "stderr",
     "output_type": "stream",
     "text": [
      "C:\\Users\\gacha\\AppData\\Local\\Temp\\ipykernel_11244\\2697736483.py:3: FutureWarning: 'M' is deprecated and will be removed in a future version, please use 'ME' instead.\n",
      "  full_range = pd.date_range(start='1979-01', end='2023-12', freq='M')\n"
     ]
    }
   ],
   "source": [
    "pivot_df = precipitation_df.pivot(index='time', columns='node', values='precipitation')\n",
    "\n",
    "full_range = pd.date_range(start='1979-01', end='2023-12', freq='M')\n",
    "pivot_df = pivot_df.reindex(full_range)\n",
    "pivot_df=pivot_df.fillna(0)"
   ]
  },
  {
   "cell_type": "code",
   "execution_count": 169,
   "id": "5d35cdc8",
   "metadata": {},
   "outputs": [],
   "source": [
    "# pivot_df=pivot_df.copy()\n",
    "# pivot_df[\"month\"]=pivot_df.index.month\n",
    "\n",
    "# pivot_df['month_sin'] = np.sin(2 * np.pi * pivot_df['month'] / 12)\n",
    "# pivot_df['month_cos'] = np.cos(2 * np.pi * pivot_df['month'] / 12)\n",
    "# pivot_df[\"year\"]=pivot_df.index.year\n",
    "\n",
    "# pivot_df[\"year_norm\"]=(pivot_df[\"year\"]-pivot_df[\"year\"].min())/(pivot_df[\"year\"].max()-pivot_df[\"year\"].min())"
   ]
  },
  {
   "cell_type": "code",
   "execution_count": null,
   "id": "c44232c9",
   "metadata": {},
   "outputs": [],
   "source": []
  },
  {
   "cell_type": "code",
   "execution_count": 170,
   "id": "d1e8f56c",
   "metadata": {},
   "outputs": [
    {
     "name": "stdout",
     "output_type": "stream",
     "text": [
      "Node 1 neighbors: ['2', '11']\n"
     ]
    }
   ],
   "source": [
    "node_id=1\n",
    "neighbors=adj_matrix.loc[node_id]\n",
    "linked_nodes=neighbors[neighbors==1].index.tolist()\n",
    "print(f\"Node {node_id} neighbors: {linked_nodes}\")"
   ]
  },
  {
   "cell_type": "code",
   "execution_count": 171,
   "id": "248d3d88",
   "metadata": {},
   "outputs": [],
   "source": [
    "def get_node_series(node_id,precipitation_df):\n",
    "    return precipitation_df[precipitation_df[\"node\"]==node_id][[\"time\",\"precipitation_diff\"]].reset_index(drop=True)"
   ]
  },
  {
   "cell_type": "code",
   "execution_count": 172,
   "id": "3a6e2e56",
   "metadata": {},
   "outputs": [],
   "source": [
    "mode_series=get_node_series(node_id,precipitation_df)"
   ]
  },
  {
   "cell_type": "code",
   "execution_count": 173,
   "id": "62dc2d3f",
   "metadata": {},
   "outputs": [],
   "source": [
    "linked_nodes = [int(nb) for nb in linked_nodes]"
   ]
  },
  {
   "cell_type": "code",
   "execution_count": 174,
   "id": "158ef205",
   "metadata": {},
   "outputs": [],
   "source": [
    "all_series = [pivot_df[node_id].values]"
   ]
  },
  {
   "cell_type": "code",
   "execution_count": 175,
   "id": "9b56e6fe",
   "metadata": {},
   "outputs": [],
   "source": [
    "\n",
    "for nb in linked_nodes:\n",
    "    all_series.append(pivot_df[nb].values)\n",
    "\n"
   ]
  },
  {
   "cell_type": "code",
   "execution_count": 176,
   "id": "4efd8e1a",
   "metadata": {},
   "outputs": [
    {
     "name": "stdout",
     "output_type": "stream",
     "text": [
      "(539, 3)\n"
     ]
    }
   ],
   "source": [
    "X=np.stack(all_series,axis=1)\n",
    "print(X.shape)"
   ]
  },
  {
   "cell_type": "code",
   "execution_count": 177,
   "id": "5ad3b3c3",
   "metadata": {},
   "outputs": [],
   "source": [
    "# X = pivot_df.drop(columns=['month','year']).values\n",
    "# print(X.shape)"
   ]
  },
  {
   "cell_type": "code",
   "execution_count": 178,
   "id": "3fbd1783",
   "metadata": {},
   "outputs": [
    {
     "name": "stdout",
     "output_type": "stream",
     "text": [
      "(449, 90, 3) (449,)\n"
     ]
    }
   ],
   "source": [
    "def create_sequences(data,time_index,window_size=90):\n",
    "    X,y,times=[],[],[]\n",
    "    for i in range(len(data)-window_size):\n",
    "        X.append(data[i:i+window_size])\n",
    "        y.append(data[i+window_size,0])\n",
    "        times.append(time_index[i+window_size])\n",
    "    return np.array(X),np.array(y),np.array(times)\n",
    "\n",
    "x_seq,y_seq,t_seq=create_sequences(X,pivot_df.index)\n",
    "print(x_seq.shape,y_seq.shape)"
   ]
  },
  {
   "cell_type": "code",
   "execution_count": 201,
   "id": "62722343",
   "metadata": {},
   "outputs": [],
   "source": [
    "import tensorflow as tf\n",
    "from tensorflow.keras.models import Sequential\n",
    "from tensorflow.keras.layers import LSTM, Dense, BatchNormalization,Dropout"
   ]
  },
  {
   "cell_type": "code",
   "execution_count": 180,
   "id": "fe8844bc",
   "metadata": {},
   "outputs": [],
   "source": [
    "num_features=x_seq.shape[2]"
   ]
  },
  {
   "cell_type": "code",
   "execution_count": 235,
   "id": "c8429b89",
   "metadata": {},
   "outputs": [
    {
     "data": {
      "text/html": [
       "<pre style=\"white-space:pre;overflow-x:auto;line-height:normal;font-family:Menlo,'DejaVu Sans Mono',consolas,'Courier New',monospace\"><span style=\"font-weight: bold\">Model: \"sequential_23\"</span>\n",
       "</pre>\n"
      ],
      "text/plain": [
       "\u001b[1mModel: \"sequential_23\"\u001b[0m\n"
      ]
     },
     "metadata": {},
     "output_type": "display_data"
    },
    {
     "data": {
      "text/html": [
       "<pre style=\"white-space:pre;overflow-x:auto;line-height:normal;font-family:Menlo,'DejaVu Sans Mono',consolas,'Courier New',monospace\">┏━━━━━━━━━━━━━━━━━━━━━━━━━━━━━━━━━┳━━━━━━━━━━━━━━━━━━━━━━━━┳━━━━━━━━━━━━━━━┓\n",
       "┃<span style=\"font-weight: bold\"> Layer (type)                    </span>┃<span style=\"font-weight: bold\"> Output Shape           </span>┃<span style=\"font-weight: bold\">       Param # </span>┃\n",
       "┡━━━━━━━━━━━━━━━━━━━━━━━━━━━━━━━━━╇━━━━━━━━━━━━━━━━━━━━━━━━╇━━━━━━━━━━━━━━━┩\n",
       "│ lstm_24 (<span style=\"color: #0087ff; text-decoration-color: #0087ff\">LSTM</span>)                  │ (<span style=\"color: #00d7ff; text-decoration-color: #00d7ff\">None</span>, <span style=\"color: #00af00; text-decoration-color: #00af00\">64</span>)             │        <span style=\"color: #00af00; text-decoration-color: #00af00\">17,408</span> │\n",
       "├─────────────────────────────────┼────────────────────────┼───────────────┤\n",
       "│ dense_57 (<span style=\"color: #0087ff; text-decoration-color: #0087ff\">Dense</span>)                │ (<span style=\"color: #00d7ff; text-decoration-color: #00d7ff\">None</span>, <span style=\"color: #00af00; text-decoration-color: #00af00\">32</span>)             │         <span style=\"color: #00af00; text-decoration-color: #00af00\">2,080</span> │\n",
       "├─────────────────────────────────┼────────────────────────┼───────────────┤\n",
       "│ dense_58 (<span style=\"color: #0087ff; text-decoration-color: #0087ff\">Dense</span>)                │ (<span style=\"color: #00d7ff; text-decoration-color: #00d7ff\">None</span>, <span style=\"color: #00af00; text-decoration-color: #00af00\">1</span>)              │            <span style=\"color: #00af00; text-decoration-color: #00af00\">33</span> │\n",
       "└─────────────────────────────────┴────────────────────────┴───────────────┘\n",
       "</pre>\n"
      ],
      "text/plain": [
       "┏━━━━━━━━━━━━━━━━━━━━━━━━━━━━━━━━━┳━━━━━━━━━━━━━━━━━━━━━━━━┳━━━━━━━━━━━━━━━┓\n",
       "┃\u001b[1m \u001b[0m\u001b[1mLayer (type)                   \u001b[0m\u001b[1m \u001b[0m┃\u001b[1m \u001b[0m\u001b[1mOutput Shape          \u001b[0m\u001b[1m \u001b[0m┃\u001b[1m \u001b[0m\u001b[1m      Param #\u001b[0m\u001b[1m \u001b[0m┃\n",
       "┡━━━━━━━━━━━━━━━━━━━━━━━━━━━━━━━━━╇━━━━━━━━━━━━━━━━━━━━━━━━╇━━━━━━━━━━━━━━━┩\n",
       "│ lstm_24 (\u001b[38;5;33mLSTM\u001b[0m)                  │ (\u001b[38;5;45mNone\u001b[0m, \u001b[38;5;34m64\u001b[0m)             │        \u001b[38;5;34m17,408\u001b[0m │\n",
       "├─────────────────────────────────┼────────────────────────┼───────────────┤\n",
       "│ dense_57 (\u001b[38;5;33mDense\u001b[0m)                │ (\u001b[38;5;45mNone\u001b[0m, \u001b[38;5;34m32\u001b[0m)             │         \u001b[38;5;34m2,080\u001b[0m │\n",
       "├─────────────────────────────────┼────────────────────────┼───────────────┤\n",
       "│ dense_58 (\u001b[38;5;33mDense\u001b[0m)                │ (\u001b[38;5;45mNone\u001b[0m, \u001b[38;5;34m1\u001b[0m)              │            \u001b[38;5;34m33\u001b[0m │\n",
       "└─────────────────────────────────┴────────────────────────┴───────────────┘\n"
      ]
     },
     "metadata": {},
     "output_type": "display_data"
    },
    {
     "data": {
      "text/html": [
       "<pre style=\"white-space:pre;overflow-x:auto;line-height:normal;font-family:Menlo,'DejaVu Sans Mono',consolas,'Courier New',monospace\"><span style=\"font-weight: bold\"> Total params: </span><span style=\"color: #00af00; text-decoration-color: #00af00\">19,521</span> (76.25 KB)\n",
       "</pre>\n"
      ],
      "text/plain": [
       "\u001b[1m Total params: \u001b[0m\u001b[38;5;34m19,521\u001b[0m (76.25 KB)\n"
      ]
     },
     "metadata": {},
     "output_type": "display_data"
    },
    {
     "data": {
      "text/html": [
       "<pre style=\"white-space:pre;overflow-x:auto;line-height:normal;font-family:Menlo,'DejaVu Sans Mono',consolas,'Courier New',monospace\"><span style=\"font-weight: bold\"> Trainable params: </span><span style=\"color: #00af00; text-decoration-color: #00af00\">19,521</span> (76.25 KB)\n",
       "</pre>\n"
      ],
      "text/plain": [
       "\u001b[1m Trainable params: \u001b[0m\u001b[38;5;34m19,521\u001b[0m (76.25 KB)\n"
      ]
     },
     "metadata": {},
     "output_type": "display_data"
    },
    {
     "data": {
      "text/html": [
       "<pre style=\"white-space:pre;overflow-x:auto;line-height:normal;font-family:Menlo,'DejaVu Sans Mono',consolas,'Courier New',monospace\"><span style=\"font-weight: bold\"> Non-trainable params: </span><span style=\"color: #00af00; text-decoration-color: #00af00\">0</span> (0.00 B)\n",
       "</pre>\n"
      ],
      "text/plain": [
       "\u001b[1m Non-trainable params: \u001b[0m\u001b[38;5;34m0\u001b[0m (0.00 B)\n"
      ]
     },
     "metadata": {},
     "output_type": "display_data"
    }
   ],
   "source": [
    "model=Sequential([\n",
    "    LSTM(64,input_shape=(30,num_features),return_sequences=False),\n",
    "    Dense(32,activation=\"relu\",kernel_initializer=\"he_normal\"),\n",
    "    Dense(1)\n",
    "])\n",
    "model.compile(optimizer=\"adam\",loss='mse')\n",
    "model.summary()"
   ]
  },
  {
   "cell_type": "code",
   "execution_count": 236,
   "id": "72b2ac10",
   "metadata": {},
   "outputs": [],
   "source": [
    "train_mask = (t_seq >= pd.to_datetime(\"1979-01-01\")) & (t_seq <= pd.to_datetime(\"2014-12-31\"))\n",
    "test_mask  = (t_seq >= pd.to_datetime(\"2015-01-01\")) & (t_seq <= pd.to_datetime(\"2023-12-31\"))\n",
    "\n",
    "X_train, y_train = x_seq[train_mask], y_seq[train_mask]\n",
    "X_test, y_test   = x_seq[test_mask],  y_seq[test_mask]\n",
    "\n",
    "\n"
   ]
  },
  {
   "cell_type": "code",
   "execution_count": 237,
   "id": "ba20c78a",
   "metadata": {},
   "outputs": [
    {
     "name": "stdout",
     "output_type": "stream",
     "text": [
      "Epoch 1/50\n",
      "\u001b[1m6/6\u001b[0m \u001b[32m━━━━━━━━━━━━━━━━━━━━\u001b[0m\u001b[37m\u001b[0m \u001b[1m2s\u001b[0m 131ms/step - loss: 111.4657 - val_loss: 45.9990\n",
      "Epoch 2/50\n",
      "\u001b[1m6/6\u001b[0m \u001b[32m━━━━━━━━━━━━━━━━━━━━\u001b[0m\u001b[37m\u001b[0m \u001b[1m0s\u001b[0m 62ms/step - loss: 106.4723 - val_loss: 43.9239\n",
      "Epoch 3/50\n",
      "\u001b[1m6/6\u001b[0m \u001b[32m━━━━━━━━━━━━━━━━━━━━\u001b[0m\u001b[37m\u001b[0m \u001b[1m0s\u001b[0m 57ms/step - loss: 101.3915 - val_loss: 42.4136\n",
      "Epoch 4/50\n",
      "\u001b[1m6/6\u001b[0m \u001b[32m━━━━━━━━━━━━━━━━━━━━\u001b[0m\u001b[37m\u001b[0m \u001b[1m0s\u001b[0m 58ms/step - loss: 97.9496 - val_loss: 45.7752\n",
      "Epoch 5/50\n",
      "\u001b[1m6/6\u001b[0m \u001b[32m━━━━━━━━━━━━━━━━━━━━\u001b[0m\u001b[37m\u001b[0m \u001b[1m0s\u001b[0m 53ms/step - loss: 96.3967 - val_loss: 46.4955\n",
      "Epoch 6/50\n",
      "\u001b[1m6/6\u001b[0m \u001b[32m━━━━━━━━━━━━━━━━━━━━\u001b[0m\u001b[37m\u001b[0m \u001b[1m0s\u001b[0m 51ms/step - loss: 96.3676 - val_loss: 46.6891\n",
      "Epoch 7/50\n",
      "\u001b[1m6/6\u001b[0m \u001b[32m━━━━━━━━━━━━━━━━━━━━\u001b[0m\u001b[37m\u001b[0m \u001b[1m0s\u001b[0m 66ms/step - loss: 95.6160 - val_loss: 45.5553\n",
      "Epoch 8/50\n",
      "\u001b[1m6/6\u001b[0m \u001b[32m━━━━━━━━━━━━━━━━━━━━\u001b[0m\u001b[37m\u001b[0m \u001b[1m0s\u001b[0m 70ms/step - loss: 95.1976 - val_loss: 44.5346\n",
      "Epoch 9/50\n",
      "\u001b[1m6/6\u001b[0m \u001b[32m━━━━━━━━━━━━━━━━━━━━\u001b[0m\u001b[37m\u001b[0m \u001b[1m0s\u001b[0m 62ms/step - loss: 94.9794 - val_loss: 43.9082\n",
      "Epoch 10/50\n",
      "\u001b[1m6/6\u001b[0m \u001b[32m━━━━━━━━━━━━━━━━━━━━\u001b[0m\u001b[37m\u001b[0m \u001b[1m0s\u001b[0m 43ms/step - loss: 94.7122 - val_loss: 44.1570\n",
      "Epoch 11/50\n",
      "\u001b[1m6/6\u001b[0m \u001b[32m━━━━━━━━━━━━━━━━━━━━\u001b[0m\u001b[37m\u001b[0m \u001b[1m0s\u001b[0m 51ms/step - loss: 94.4106 - val_loss: 44.3262\n",
      "Epoch 12/50\n",
      "\u001b[1m6/6\u001b[0m \u001b[32m━━━━━━━━━━━━━━━━━━━━\u001b[0m\u001b[37m\u001b[0m \u001b[1m0s\u001b[0m 46ms/step - loss: 94.1336 - val_loss: 44.2713\n",
      "Epoch 13/50\n",
      "\u001b[1m6/6\u001b[0m \u001b[32m━━━━━━━━━━━━━━━━━━━━\u001b[0m\u001b[37m\u001b[0m \u001b[1m0s\u001b[0m 50ms/step - loss: 93.9283 - val_loss: 44.0878\n",
      "Epoch 14/50\n",
      "\u001b[1m6/6\u001b[0m \u001b[32m━━━━━━━━━━━━━━━━━━━━\u001b[0m\u001b[37m\u001b[0m \u001b[1m0s\u001b[0m 51ms/step - loss: 93.6332 - val_loss: 44.0183\n",
      "Epoch 15/50\n",
      "\u001b[1m6/6\u001b[0m \u001b[32m━━━━━━━━━━━━━━━━━━━━\u001b[0m\u001b[37m\u001b[0m \u001b[1m0s\u001b[0m 51ms/step - loss: 93.4749 - val_loss: 44.3258\n",
      "Epoch 16/50\n",
      "\u001b[1m6/6\u001b[0m \u001b[32m━━━━━━━━━━━━━━━━━━━━\u001b[0m\u001b[37m\u001b[0m \u001b[1m0s\u001b[0m 51ms/step - loss: 93.2311 - val_loss: 44.2072\n",
      "Epoch 17/50\n",
      "\u001b[1m6/6\u001b[0m \u001b[32m━━━━━━━━━━━━━━━━━━━━\u001b[0m\u001b[37m\u001b[0m \u001b[1m0s\u001b[0m 54ms/step - loss: 93.1630 - val_loss: 45.6190\n",
      "Epoch 18/50\n",
      "\u001b[1m6/6\u001b[0m \u001b[32m━━━━━━━━━━━━━━━━━━━━\u001b[0m\u001b[37m\u001b[0m \u001b[1m0s\u001b[0m 52ms/step - loss: 93.0932 - val_loss: 45.3841\n",
      "Epoch 19/50\n",
      "\u001b[1m6/6\u001b[0m \u001b[32m━━━━━━━━━━━━━━━━━━━━\u001b[0m\u001b[37m\u001b[0m \u001b[1m0s\u001b[0m 46ms/step - loss: 92.5901 - val_loss: 44.3896\n",
      "Epoch 20/50\n",
      "\u001b[1m6/6\u001b[0m \u001b[32m━━━━━━━━━━━━━━━━━━━━\u001b[0m\u001b[37m\u001b[0m \u001b[1m0s\u001b[0m 52ms/step - loss: 92.5745 - val_loss: 43.3728\n",
      "Epoch 21/50\n",
      "\u001b[1m6/6\u001b[0m \u001b[32m━━━━━━━━━━━━━━━━━━━━\u001b[0m\u001b[37m\u001b[0m \u001b[1m0s\u001b[0m 53ms/step - loss: 92.5386 - val_loss: 42.9453\n",
      "Epoch 22/50\n",
      "\u001b[1m6/6\u001b[0m \u001b[32m━━━━━━━━━━━━━━━━━━━━\u001b[0m\u001b[37m\u001b[0m \u001b[1m0s\u001b[0m 52ms/step - loss: 92.2796 - val_loss: 43.4915\n",
      "Epoch 23/50\n",
      "\u001b[1m6/6\u001b[0m \u001b[32m━━━━━━━━━━━━━━━━━━━━\u001b[0m\u001b[37m\u001b[0m \u001b[1m0s\u001b[0m 51ms/step - loss: 91.8949 - val_loss: 44.4858\n",
      "Epoch 24/50\n",
      "\u001b[1m6/6\u001b[0m \u001b[32m━━━━━━━━━━━━━━━━━━━━\u001b[0m\u001b[37m\u001b[0m \u001b[1m0s\u001b[0m 47ms/step - loss: 91.9225 - val_loss: 45.9513\n",
      "Epoch 25/50\n",
      "\u001b[1m6/6\u001b[0m \u001b[32m━━━━━━━━━━━━━━━━━━━━\u001b[0m\u001b[37m\u001b[0m \u001b[1m0s\u001b[0m 48ms/step - loss: 91.7078 - val_loss: 45.0607\n",
      "Epoch 26/50\n",
      "\u001b[1m6/6\u001b[0m \u001b[32m━━━━━━━━━━━━━━━━━━━━\u001b[0m\u001b[37m\u001b[0m \u001b[1m0s\u001b[0m 50ms/step - loss: 91.4558 - val_loss: 44.0252\n",
      "Epoch 27/50\n",
      "\u001b[1m6/6\u001b[0m \u001b[32m━━━━━━━━━━━━━━━━━━━━\u001b[0m\u001b[37m\u001b[0m \u001b[1m0s\u001b[0m 52ms/step - loss: 91.1953 - val_loss: 44.0744\n",
      "Epoch 28/50\n",
      "\u001b[1m6/6\u001b[0m \u001b[32m━━━━━━━━━━━━━━━━━━━━\u001b[0m\u001b[37m\u001b[0m \u001b[1m0s\u001b[0m 53ms/step - loss: 91.3021 - val_loss: 44.4867\n",
      "Epoch 29/50\n",
      "\u001b[1m6/6\u001b[0m \u001b[32m━━━━━━━━━━━━━━━━━━━━\u001b[0m\u001b[37m\u001b[0m \u001b[1m0s\u001b[0m 54ms/step - loss: 90.7405 - val_loss: 44.3103\n",
      "Epoch 30/50\n",
      "\u001b[1m6/6\u001b[0m \u001b[32m━━━━━━━━━━━━━━━━━━━━\u001b[0m\u001b[37m\u001b[0m \u001b[1m0s\u001b[0m 60ms/step - loss: 90.4986 - val_loss: 43.8992\n",
      "Epoch 31/50\n",
      "\u001b[1m6/6\u001b[0m \u001b[32m━━━━━━━━━━━━━━━━━━━━\u001b[0m\u001b[37m\u001b[0m \u001b[1m0s\u001b[0m 47ms/step - loss: 90.3383 - val_loss: 44.3864\n",
      "Epoch 32/50\n",
      "\u001b[1m6/6\u001b[0m \u001b[32m━━━━━━━━━━━━━━━━━━━━\u001b[0m\u001b[37m\u001b[0m \u001b[1m0s\u001b[0m 53ms/step - loss: 89.9814 - val_loss: 44.0951\n",
      "Epoch 33/50\n",
      "\u001b[1m6/6\u001b[0m \u001b[32m━━━━━━━━━━━━━━━━━━━━\u001b[0m\u001b[37m\u001b[0m \u001b[1m0s\u001b[0m 55ms/step - loss: 89.6395 - val_loss: 43.3303\n",
      "Epoch 34/50\n",
      "\u001b[1m6/6\u001b[0m \u001b[32m━━━━━━━━━━━━━━━━━━━━\u001b[0m\u001b[37m\u001b[0m \u001b[1m0s\u001b[0m 53ms/step - loss: 89.3681 - val_loss: 43.0271\n",
      "Epoch 35/50\n",
      "\u001b[1m6/6\u001b[0m \u001b[32m━━━━━━━━━━━━━━━━━━━━\u001b[0m\u001b[37m\u001b[0m \u001b[1m0s\u001b[0m 51ms/step - loss: 88.9329 - val_loss: 43.4189\n",
      "Epoch 36/50\n",
      "\u001b[1m6/6\u001b[0m \u001b[32m━━━━━━━━━━━━━━━━━━━━\u001b[0m\u001b[37m\u001b[0m \u001b[1m0s\u001b[0m 51ms/step - loss: 88.4112 - val_loss: 43.6258\n",
      "Epoch 37/50\n",
      "\u001b[1m6/6\u001b[0m \u001b[32m━━━━━━━━━━━━━━━━━━━━\u001b[0m\u001b[37m\u001b[0m \u001b[1m0s\u001b[0m 50ms/step - loss: 87.9414 - val_loss: 42.6507\n",
      "Epoch 38/50\n",
      "\u001b[1m6/6\u001b[0m \u001b[32m━━━━━━━━━━━━━━━━━━━━\u001b[0m\u001b[37m\u001b[0m \u001b[1m0s\u001b[0m 55ms/step - loss: 87.3855 - val_loss: 42.4439\n",
      "Epoch 39/50\n",
      "\u001b[1m6/6\u001b[0m \u001b[32m━━━━━━━━━━━━━━━━━━━━\u001b[0m\u001b[37m\u001b[0m \u001b[1m0s\u001b[0m 47ms/step - loss: 86.8168 - val_loss: 44.2413\n",
      "Epoch 40/50\n",
      "\u001b[1m6/6\u001b[0m \u001b[32m━━━━━━━━━━━━━━━━━━━━\u001b[0m\u001b[37m\u001b[0m \u001b[1m0s\u001b[0m 50ms/step - loss: 85.3180 - val_loss: 43.0250\n",
      "Epoch 41/50\n",
      "\u001b[1m6/6\u001b[0m \u001b[32m━━━━━━━━━━━━━━━━━━━━\u001b[0m\u001b[37m\u001b[0m \u001b[1m0s\u001b[0m 52ms/step - loss: 84.8318 - val_loss: 43.4753\n",
      "Epoch 42/50\n",
      "\u001b[1m6/6\u001b[0m \u001b[32m━━━━━━━━━━━━━━━━━━━━\u001b[0m\u001b[37m\u001b[0m \u001b[1m0s\u001b[0m 48ms/step - loss: 83.6719 - val_loss: 45.1866\n",
      "Epoch 43/50\n",
      "\u001b[1m6/6\u001b[0m \u001b[32m━━━━━━━━━━━━━━━━━━━━\u001b[0m\u001b[37m\u001b[0m \u001b[1m0s\u001b[0m 52ms/step - loss: 82.4726 - val_loss: 43.2572\n",
      "Epoch 44/50\n",
      "\u001b[1m6/6\u001b[0m \u001b[32m━━━━━━━━━━━━━━━━━━━━\u001b[0m\u001b[37m\u001b[0m \u001b[1m0s\u001b[0m 53ms/step - loss: 81.5949 - val_loss: 43.9769\n",
      "Epoch 45/50\n",
      "\u001b[1m6/6\u001b[0m \u001b[32m━━━━━━━━━━━━━━━━━━━━\u001b[0m\u001b[37m\u001b[0m \u001b[1m0s\u001b[0m 48ms/step - loss: 81.0674 - val_loss: 45.3228\n",
      "Epoch 46/50\n",
      "\u001b[1m6/6\u001b[0m \u001b[32m━━━━━━━━━━━━━━━━━━━━\u001b[0m\u001b[37m\u001b[0m \u001b[1m0s\u001b[0m 48ms/step - loss: 80.0254 - val_loss: 44.4927\n",
      "Epoch 47/50\n",
      "\u001b[1m6/6\u001b[0m \u001b[32m━━━━━━━━━━━━━━━━━━━━\u001b[0m\u001b[37m\u001b[0m \u001b[1m0s\u001b[0m 52ms/step - loss: 80.6816 - val_loss: 45.4986\n",
      "Epoch 48/50\n",
      "\u001b[1m6/6\u001b[0m \u001b[32m━━━━━━━━━━━━━━━━━━━━\u001b[0m\u001b[37m\u001b[0m \u001b[1m0s\u001b[0m 51ms/step - loss: 77.8684 - val_loss: 42.8960\n",
      "Epoch 49/50\n",
      "\u001b[1m6/6\u001b[0m \u001b[32m━━━━━━━━━━━━━━━━━━━━\u001b[0m\u001b[37m\u001b[0m \u001b[1m0s\u001b[0m 50ms/step - loss: 78.4758 - val_loss: 42.7389\n",
      "Epoch 50/50\n",
      "\u001b[1m6/6\u001b[0m \u001b[32m━━━━━━━━━━━━━━━━━━━━\u001b[0m\u001b[37m\u001b[0m \u001b[1m0s\u001b[0m 50ms/step - loss: 76.4438 - val_loss: 44.2903\n"
     ]
    }
   ],
   "source": [
    "history=model.fit(X_train,y_train,\n",
    "                  validation_data=(X_test,y_test),\n",
    "                  epochs=50,\n",
    "                  batch_size=64,\n",
    "                  verbose=1\n",
    "                  )"
   ]
  },
  {
   "cell_type": "code",
   "execution_count": 238,
   "id": "9235758d",
   "metadata": {},
   "outputs": [
    {
     "name": "stdout",
     "output_type": "stream",
     "text": [
      "\u001b[1m4/4\u001b[0m \u001b[32m━━━━━━━━━━━━━━━━━━━━\u001b[0m\u001b[37m\u001b[0m \u001b[1m0s\u001b[0m 20ms/step - loss: 44.2903\n",
      "Test MSE: 44.290279388427734\n",
      "\u001b[1m4/4\u001b[0m \u001b[32m━━━━━━━━━━━━━━━━━━━━\u001b[0m\u001b[37m\u001b[0m \u001b[1m0s\u001b[0m 65ms/step\n"
     ]
    }
   ],
   "source": [
    "loss = model.evaluate(X_test, y_test)\n",
    "print(\"Test MSE:\", loss)\n",
    "\n",
    "y_pred = model.predict(X_test)"
   ]
  },
  {
   "cell_type": "code",
   "execution_count": 240,
   "id": "96eae9cd",
   "metadata": {},
   "outputs": [],
   "source": [
    "aligned_series = pivot_df[node_id].reindex(t_seq).values\n",
    "\n",
    "last_value = aligned_series[train_mask][-1]\n",
    "y_pred_inverse=[]\n",
    "for diff in y_pred.flatten():\n",
    "    next_value=last_value+diff\n",
    "    y_pred_inverse.append(next_value)\n",
    "    last_value=next_value\n",
    "\n",
    "y_pred_inverse=np.array(y_pred_inverse)\n"
   ]
  },
  {
   "cell_type": "code",
   "execution_count": 241,
   "id": "7e4e2548",
   "metadata": {},
   "outputs": [],
   "source": [
    "y_test_inverse=[]\n",
    "last_value=aligned_series[train_mask][-1]\n",
    "for diff in y_test.flatten():\n",
    "    nect_value=last_value+diff\n",
    "    y_test_inverse.append(next_value)\n",
    "    last_value=next_value\n",
    "y_test_inverse=np.array(y_test_inverse)"
   ]
  },
  {
   "cell_type": "code",
   "execution_count": 242,
   "id": "19d2fa60",
   "metadata": {},
   "outputs": [
    {
     "name": "stdout",
     "output_type": "stream",
     "text": [
      "Saved results for Node 1\n"
     ]
    }
   ],
   "source": [
    "results_df=pd.DataFrame({\n",
    "    \"date\":t_seq[test_mask],\n",
    "    \"node\":node_id,\n",
    "    \"actual\":y_test_inverse,\n",
    "    \"forecast\":y_pred_inverse\n",
    "})\n",
    "results_df.to_csv(\"forecasts_node_{node_id}.csv\",index=False)\n",
    "print(\"Saved results for Node\", node_id)"
   ]
  },
  {
   "cell_type": "code",
   "execution_count": null,
   "id": "2af84bd4",
   "metadata": {},
   "outputs": [],
   "source": []
  }
 ],
 "metadata": {
  "kernelspec": {
   "display_name": ".venv",
   "language": "python",
   "name": "python3"
  },
  "language_info": {
   "codemirror_mode": {
    "name": "ipython",
    "version": 3
   },
   "file_extension": ".py",
   "mimetype": "text/x-python",
   "name": "python",
   "nbconvert_exporter": "python",
   "pygments_lexer": "ipython3",
   "version": "3.11.9"
  }
 },
 "nbformat": 4,
 "nbformat_minor": 5
}
